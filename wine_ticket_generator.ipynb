{
 "cells": [
  {
   "cell_type": "markdown",
   "source": [
    "# Wine lottery ticket generator\n",
    "\n",
    "To \"run a cell\" in this notebook after editing the values, hold `SHIFT` and press `ENTER/RETURN`.\n",
    "\n",
    "Please provide the price per ticket, and run the cell."
   ],
   "metadata": {}
  },
  {
   "cell_type": "code",
   "execution_count": null,
   "source": [
    "ticket_price = 10"
   ],
   "outputs": [],
   "metadata": {}
  },
  {
   "cell_type": "markdown",
   "source": [
    "Please update the amount the contestants have bought tickets for, and run the cell.\n",
    "\n",
    "Contestant can be *removed* by deleting the appropriate line, and a new contestant can **added** by including them on a new line."
   ],
   "metadata": {}
  },
  {
   "cell_type": "code",
   "execution_count": null,
   "source": [
    "contestants = {\n",
    "    \"Kristian\": 10,\n",
    "    \"Geir Olav\": 20,\n",
    "    \"Asgeir\": 30,\n",
    "    \"Magrete\": 40,\n",
    "    \"Trond\": 50,\n",
    "    \"Ole-Johan\": 0,\n",
    "    \"Andreas\": 10,\n",
    "    \"Håkon\": 20,\n",
    "    \"Trshant\": 30,\n",
    "    \"Uti\": 40,\n",
    "    \"Lewi\": 50,\n",
    "    \"Rida\": 0,\n",
    "    \"Ahmad\": 10,\n",
    "    \"Svein Olaf\": 20,\n",
    "    \"Ingrid\": 30\n",
    "}"
   ],
   "outputs": [],
   "metadata": {}
  },
  {
   "cell_type": "markdown",
   "source": [
    "Get the balance of ticket sales, and the amount of tickets contestants bought."
   ],
   "metadata": {}
  },
  {
   "cell_type": "code",
   "execution_count": null,
   "source": [
    "contestants_ticket_count = {}\n",
    "\n",
    "for contestant_name, contestant_value in contestants.items():\n",
    "    if contestant_value > 0:\n",
    "        contestants_ticket_count[contestant_name] = contestant_value // ticket_price\n",
    "\n",
    "print(f\"Current weeks total ticket sale: {sum(contestants.values()):.0f}\\n\")\n",
    "\n",
    "for contestant_name, contestant_value in contestants_ticket_count.items():\n",
    "    print(f\"{contestant_name}: {contestant_value}\")"
   ],
   "outputs": [],
   "metadata": {}
  },
  {
   "cell_type": "markdown",
   "source": [
    "Generate the list of tickets to be used by [Wheel of Names](https://wheelofnames.com)."
   ],
   "metadata": {}
  },
  {
   "cell_type": "code",
   "execution_count": null,
   "source": [
    "for contestant in contestants_ticket_count:\n",
    "    counter = 0\n",
    "    for i in range(contestants_ticket_count[contestant]):\n",
    "        counter += 1\n",
    "        print(counter, contestant)"
   ],
   "outputs": [],
   "metadata": {}
  }
 ],
 "metadata": {
  "orig_nbformat": 4,
  "language_info": {
   "name": "python",
   "version": "3.9.7",
   "mimetype": "text/x-python",
   "codemirror_mode": {
    "name": "ipython",
    "version": 3
   },
   "pygments_lexer": "ipython3",
   "nbconvert_exporter": "python",
   "file_extension": ".py"
  },
  "kernelspec": {
   "name": "python3",
   "display_name": "Python 3.9.7 64-bit"
  },
  "interpreter": {
   "hash": "a03e7b4046fedca4bc9ba80ba28b640c35d6ccff4a8c6a37fce6642137bf0fb4"
  }
 },
 "nbformat": 4,
 "nbformat_minor": 2
}